{
 "cells": [
  {
   "cell_type": "code",
   "execution_count": 2,
   "metadata": {},
   "outputs": [],
   "source": [
    "from datetime import datetime"
   ]
  },
  {
   "cell_type": "code",
   "execution_count": 3,
   "metadata": {},
   "outputs": [],
   "source": [
    "dates=[datetime(2011, 1, 2), datetime(2011, 1, 5),\n",
    "      datetime(2011, 1, 7), datetime(2011, 1, 8),\n",
    "      datetime(2011, 1, 10), datetime(2011, 1, 12)]"
   ]
  },
  {
   "cell_type": "code",
   "execution_count": 5,
   "metadata": {},
   "outputs": [],
   "source": [
    "import pandas as pd\n",
    "import numpy as np"
   ]
  },
  {
   "cell_type": "code",
   "execution_count": 6,
   "metadata": {},
   "outputs": [],
   "source": [
    "ts=pd.Series(np.random.randn(6), index=dates)"
   ]
  },
  {
   "cell_type": "code",
   "execution_count": 7,
   "metadata": {},
   "outputs": [
    {
     "data": {
      "text/plain": [
       "2011-01-02   -0.434001\n",
       "2011-01-05   -0.953906\n",
       "2011-01-07    0.517452\n",
       "2011-01-08    0.707736\n",
       "2011-01-10   -1.007212\n",
       "2011-01-12    0.552384\n",
       "dtype: float64"
      ]
     },
     "execution_count": 7,
     "metadata": {},
     "output_type": "execute_result"
    }
   ],
   "source": [
    "ts"
   ]
  },
  {
   "cell_type": "code",
   "execution_count": 8,
   "metadata": {},
   "outputs": [
    {
     "data": {
      "text/plain": [
       "DatetimeIndex(['2011-01-02', '2011-01-05', '2011-01-07', '2011-01-08',\n",
       "               '2011-01-10', '2011-01-12'],\n",
       "              dtype='datetime64[ns]', freq=None)"
      ]
     },
     "execution_count": 8,
     "metadata": {},
     "output_type": "execute_result"
    }
   ],
   "source": [
    "ts.index"
   ]
  },
  {
   "cell_type": "code",
   "execution_count": 9,
   "metadata": {},
   "outputs": [
    {
     "data": {
      "text/plain": [
       "2011-01-02   -0.868003\n",
       "2011-01-05         NaN\n",
       "2011-01-07    1.034905\n",
       "2011-01-08         NaN\n",
       "2011-01-10   -2.014423\n",
       "2011-01-12         NaN\n",
       "dtype: float64"
      ]
     },
     "execution_count": 9,
     "metadata": {},
     "output_type": "execute_result"
    }
   ],
   "source": [
    "ts + ts[::2]"
   ]
  },
  {
   "cell_type": "code",
   "execution_count": 10,
   "metadata": {},
   "outputs": [
    {
     "data": {
      "text/plain": [
       "2011-01-02   -0.434001\n",
       "2011-01-07    0.517452\n",
       "2011-01-10   -1.007212\n",
       "dtype: float64"
      ]
     },
     "execution_count": 10,
     "metadata": {},
     "output_type": "execute_result"
    }
   ],
   "source": [
    "ts[::2]"
   ]
  },
  {
   "cell_type": "code",
   "execution_count": 11,
   "metadata": {},
   "outputs": [
    {
     "data": {
      "text/plain": [
       "dtype('<M8[ns]')"
      ]
     },
     "execution_count": 11,
     "metadata": {},
     "output_type": "execute_result"
    }
   ],
   "source": [
    "ts.index.dtype"
   ]
  },
  {
   "cell_type": "code",
   "execution_count": 12,
   "metadata": {},
   "outputs": [],
   "source": [
    "stamp = ts.index[0]"
   ]
  },
  {
   "cell_type": "code",
   "execution_count": 13,
   "metadata": {},
   "outputs": [
    {
     "data": {
      "text/plain": [
       "Timestamp('2011-01-02 00:00:00')"
      ]
     },
     "execution_count": 13,
     "metadata": {},
     "output_type": "execute_result"
    }
   ],
   "source": [
    "stamp"
   ]
  },
  {
   "cell_type": "code",
   "execution_count": 14,
   "metadata": {},
   "outputs": [],
   "source": [
    "stamp = ts.index[2]"
   ]
  },
  {
   "cell_type": "code",
   "execution_count": 15,
   "metadata": {},
   "outputs": [
    {
     "data": {
      "text/plain": [
       "0.5174522790069063"
      ]
     },
     "execution_count": 15,
     "metadata": {},
     "output_type": "execute_result"
    }
   ],
   "source": [
    "ts[stamp]"
   ]
  },
  {
   "cell_type": "code",
   "execution_count": 16,
   "metadata": {},
   "outputs": [
    {
     "data": {
      "text/plain": [
       "-1.007211546111057"
      ]
     },
     "execution_count": 16,
     "metadata": {},
     "output_type": "execute_result"
    }
   ],
   "source": [
    "ts['1/10/2011']"
   ]
  },
  {
   "cell_type": "code",
   "execution_count": 17,
   "metadata": {},
   "outputs": [
    {
     "data": {
      "text/plain": [
       "-1.007211546111057"
      ]
     },
     "execution_count": 17,
     "metadata": {},
     "output_type": "execute_result"
    }
   ],
   "source": [
    "ts['20110110']"
   ]
  },
  {
   "cell_type": "code",
   "execution_count": 18,
   "metadata": {},
   "outputs": [],
   "source": [
    "longer_ts = pd.Series(np.random.randn(1000),\n",
    "                     index=pd.date_range('1/1/2000', periods=1000))"
   ]
  },
  {
   "cell_type": "code",
   "execution_count": 19,
   "metadata": {},
   "outputs": [
    {
     "data": {
      "text/plain": [
       "2000-01-01    0.108232\n",
       "2000-01-02   -0.359739\n",
       "2000-01-03    0.465568\n",
       "2000-01-04   -1.205317\n",
       "2000-01-05   -0.400423\n",
       "                ...   \n",
       "2002-09-22    0.418447\n",
       "2002-09-23    0.046918\n",
       "2002-09-24   -0.190896\n",
       "2002-09-25    0.123961\n",
       "2002-09-26   -0.342929\n",
       "Freq: D, Length: 1000, dtype: float64"
      ]
     },
     "execution_count": 19,
     "metadata": {},
     "output_type": "execute_result"
    }
   ],
   "source": [
    "longer_ts"
   ]
  },
  {
   "cell_type": "code",
   "execution_count": 20,
   "metadata": {},
   "outputs": [
    {
     "data": {
      "text/plain": [
       "2001-01-01    0.489540\n",
       "2001-01-02    0.609389\n",
       "2001-01-03   -0.098189\n",
       "2001-01-04    0.908296\n",
       "2001-01-05   -0.660235\n",
       "                ...   \n",
       "2001-12-27    0.823726\n",
       "2001-12-28   -0.508765\n",
       "2001-12-29    0.403752\n",
       "2001-12-30    0.863746\n",
       "2001-12-31   -0.188312\n",
       "Freq: D, Length: 365, dtype: float64"
      ]
     },
     "execution_count": 20,
     "metadata": {},
     "output_type": "execute_result"
    }
   ],
   "source": [
    "longer_ts['2001']"
   ]
  },
  {
   "cell_type": "code",
   "execution_count": 21,
   "metadata": {},
   "outputs": [
    {
     "data": {
      "text/plain": [
       "2001-05-01    0.423173\n",
       "2001-05-02   -0.996828\n",
       "2001-05-03    1.031605\n",
       "2001-05-04    0.541111\n",
       "2001-05-05    0.004784\n",
       "2001-05-06   -1.461940\n",
       "2001-05-07    0.987306\n",
       "2001-05-08    0.987730\n",
       "2001-05-09   -0.255684\n",
       "2001-05-10   -0.102109\n",
       "2001-05-11   -1.148867\n",
       "2001-05-12   -1.679849\n",
       "2001-05-13   -0.417266\n",
       "2001-05-14   -1.180676\n",
       "2001-05-15    0.110592\n",
       "2001-05-16   -0.779068\n",
       "2001-05-17    0.425085\n",
       "2001-05-18   -1.799464\n",
       "2001-05-19   -1.585296\n",
       "2001-05-20   -0.134975\n",
       "2001-05-21    0.879506\n",
       "2001-05-22   -0.565358\n",
       "2001-05-23    0.366629\n",
       "2001-05-24   -1.235899\n",
       "2001-05-25    1.670464\n",
       "2001-05-26    1.739629\n",
       "2001-05-27   -0.239574\n",
       "2001-05-28   -2.324476\n",
       "2001-05-29    0.647984\n",
       "2001-05-30    0.378567\n",
       "2001-05-31    1.101480\n",
       "Freq: D, dtype: float64"
      ]
     },
     "execution_count": 21,
     "metadata": {},
     "output_type": "execute_result"
    }
   ],
   "source": [
    "longer_ts['2001-05']"
   ]
  },
  {
   "cell_type": "code",
   "execution_count": 22,
   "metadata": {},
   "outputs": [
    {
     "data": {
      "text/plain": [
       "2000-01-01    0.108232\n",
       "2000-01-02   -0.359739\n",
       "2000-01-03    0.465568\n",
       "2000-01-04   -1.205317\n",
       "2000-01-05   -0.400423\n",
       "                ...   \n",
       "2000-12-27    1.215411\n",
       "2000-12-28    1.061101\n",
       "2000-12-29    0.227727\n",
       "2000-12-30    0.405754\n",
       "2000-12-31   -1.519098\n",
       "Freq: D, Length: 366, dtype: float64"
      ]
     },
     "execution_count": 22,
     "metadata": {},
     "output_type": "execute_result"
    }
   ],
   "source": [
    "longer_ts['2000']"
   ]
  },
  {
   "cell_type": "code",
   "execution_count": 24,
   "metadata": {},
   "outputs": [
    {
     "data": {
      "text/plain": [
       "2000-02-01    0.055551\n",
       "2000-02-02   -1.788413\n",
       "2000-02-03    0.541574\n",
       "2000-02-04   -2.058641\n",
       "2000-02-05    0.237538\n",
       "2000-02-06   -1.875571\n",
       "2000-02-07    0.279663\n",
       "2000-02-08   -0.654421\n",
       "2000-02-09    0.801695\n",
       "2000-02-10    1.274785\n",
       "2000-02-11   -0.292584\n",
       "2000-02-12    0.369122\n",
       "2000-02-13    1.813182\n",
       "2000-02-14    0.406508\n",
       "2000-02-15    0.435767\n",
       "2000-02-16   -0.778441\n",
       "2000-02-17    1.296681\n",
       "2000-02-18   -1.755953\n",
       "2000-02-19    1.397658\n",
       "2000-02-20   -0.826153\n",
       "2000-02-21   -2.151660\n",
       "2000-02-22   -0.592193\n",
       "2000-02-23    0.485956\n",
       "2000-02-24    0.761671\n",
       "2000-02-25   -0.840106\n",
       "2000-02-26    0.584287\n",
       "2000-02-27    0.320314\n",
       "2000-02-28    1.402306\n",
       "2000-02-29   -0.508019\n",
       "Freq: D, dtype: float64"
      ]
     },
     "execution_count": 24,
     "metadata": {},
     "output_type": "execute_result"
    }
   ],
   "source": [
    "longer_ts['2000-02']"
   ]
  },
  {
   "cell_type": "code",
   "execution_count": 26,
   "metadata": {},
   "outputs": [
    {
     "data": {
      "text/plain": [
       "2011-01-07    0.517452\n",
       "2011-01-08    0.707736\n",
       "2011-01-10   -1.007212\n",
       "2011-01-12    0.552384\n",
       "dtype: float64"
      ]
     },
     "execution_count": 26,
     "metadata": {},
     "output_type": "execute_result"
    }
   ],
   "source": [
    "ts[datetime(2011,1,7):]"
   ]
  },
  {
   "cell_type": "code",
   "execution_count": 27,
   "metadata": {},
   "outputs": [
    {
     "data": {
      "text/plain": [
       "2011-01-02   -0.434001\n",
       "2011-01-05   -0.953906\n",
       "2011-01-07    0.517452\n",
       "2011-01-08    0.707736\n",
       "2011-01-10   -1.007212\n",
       "2011-01-12    0.552384\n",
       "dtype: float64"
      ]
     },
     "execution_count": 27,
     "metadata": {},
     "output_type": "execute_result"
    }
   ],
   "source": [
    "ts"
   ]
  },
  {
   "cell_type": "code",
   "execution_count": 30,
   "metadata": {},
   "outputs": [
    {
     "data": {
      "text/plain": [
       "2011-01-05   -0.953906\n",
       "2011-01-07    0.517452\n",
       "2011-01-08    0.707736\n",
       "2011-01-10   -1.007212\n",
       "dtype: float64"
      ]
     },
     "execution_count": 30,
     "metadata": {},
     "output_type": "execute_result"
    }
   ],
   "source": [
    "ts['1/5/2011':'1/10/2011']"
   ]
  },
  {
   "cell_type": "code",
   "execution_count": 29,
   "metadata": {},
   "outputs": [
    {
     "data": {
      "text/plain": [
       "2011-01-02   -0.434001\n",
       "2011-01-05   -0.953906\n",
       "2011-01-07    0.517452\n",
       "2011-01-08    0.707736\n",
       "dtype: float64"
      ]
     },
     "execution_count": 29,
     "metadata": {},
     "output_type": "execute_result"
    }
   ],
   "source": [
    "ts.truncate(after='1/9/2011')"
   ]
  },
  {
   "cell_type": "code",
   "execution_count": 31,
   "metadata": {},
   "outputs": [],
   "source": [
    "dates=pd.date_range('1/1/2000', periods=100, freq='W-WED')"
   ]
  },
  {
   "cell_type": "code",
   "execution_count": 32,
   "metadata": {},
   "outputs": [],
   "source": [
    "long_df=pd.DataFrame(np.random.randn(100,4),\n",
    "                    index=dates,\n",
    "                    columns=['Colorado','Texas','New York','Ohio'])"
   ]
  },
  {
   "cell_type": "code",
   "execution_count": 33,
   "metadata": {},
   "outputs": [
    {
     "data": {
      "text/html": [
       "<div>\n",
       "<style scoped>\n",
       "    .dataframe tbody tr th:only-of-type {\n",
       "        vertical-align: middle;\n",
       "    }\n",
       "\n",
       "    .dataframe tbody tr th {\n",
       "        vertical-align: top;\n",
       "    }\n",
       "\n",
       "    .dataframe thead th {\n",
       "        text-align: right;\n",
       "    }\n",
       "</style>\n",
       "<table border=\"1\" class=\"dataframe\">\n",
       "  <thead>\n",
       "    <tr style=\"text-align: right;\">\n",
       "      <th></th>\n",
       "      <th>Colorado</th>\n",
       "      <th>Texas</th>\n",
       "      <th>New York</th>\n",
       "      <th>Ohio</th>\n",
       "    </tr>\n",
       "  </thead>\n",
       "  <tbody>\n",
       "    <tr>\n",
       "      <td>2001-05-02</td>\n",
       "      <td>-0.044161</td>\n",
       "      <td>2.306115</td>\n",
       "      <td>-1.882850</td>\n",
       "      <td>0.140132</td>\n",
       "    </tr>\n",
       "    <tr>\n",
       "      <td>2001-05-09</td>\n",
       "      <td>-1.367360</td>\n",
       "      <td>-1.144771</td>\n",
       "      <td>1.184599</td>\n",
       "      <td>-2.249279</td>\n",
       "    </tr>\n",
       "    <tr>\n",
       "      <td>2001-05-16</td>\n",
       "      <td>1.594773</td>\n",
       "      <td>-0.798743</td>\n",
       "      <td>1.214341</td>\n",
       "      <td>-0.509327</td>\n",
       "    </tr>\n",
       "    <tr>\n",
       "      <td>2001-05-23</td>\n",
       "      <td>-1.543785</td>\n",
       "      <td>-0.262578</td>\n",
       "      <td>1.122920</td>\n",
       "      <td>-1.310056</td>\n",
       "    </tr>\n",
       "    <tr>\n",
       "      <td>2001-05-30</td>\n",
       "      <td>2.158885</td>\n",
       "      <td>-0.563091</td>\n",
       "      <td>0.865807</td>\n",
       "      <td>0.219057</td>\n",
       "    </tr>\n",
       "  </tbody>\n",
       "</table>\n",
       "</div>"
      ],
      "text/plain": [
       "            Colorado     Texas  New York      Ohio\n",
       "2001-05-02 -0.044161  2.306115 -1.882850  0.140132\n",
       "2001-05-09 -1.367360 -1.144771  1.184599 -2.249279\n",
       "2001-05-16  1.594773 -0.798743  1.214341 -0.509327\n",
       "2001-05-23 -1.543785 -0.262578  1.122920 -1.310056\n",
       "2001-05-30  2.158885 -0.563091  0.865807  0.219057"
      ]
     },
     "execution_count": 33,
     "metadata": {},
     "output_type": "execute_result"
    }
   ],
   "source": [
    "long_df.loc['2001-05']"
   ]
  },
  {
   "cell_type": "code",
   "execution_count": 42,
   "metadata": {},
   "outputs": [
    {
     "data": {
      "text/html": [
       "<div>\n",
       "<style scoped>\n",
       "    .dataframe tbody tr th:only-of-type {\n",
       "        vertical-align: middle;\n",
       "    }\n",
       "\n",
       "    .dataframe tbody tr th {\n",
       "        vertical-align: top;\n",
       "    }\n",
       "\n",
       "    .dataframe thead th {\n",
       "        text-align: right;\n",
       "    }\n",
       "</style>\n",
       "<table border=\"1\" class=\"dataframe\">\n",
       "  <thead>\n",
       "    <tr style=\"text-align: right;\">\n",
       "      <th></th>\n",
       "      <th>Colorado</th>\n",
       "      <th>Texas</th>\n",
       "      <th>New York</th>\n",
       "      <th>Ohio</th>\n",
       "    </tr>\n",
       "  </thead>\n",
       "  <tbody>\n",
       "    <tr>\n",
       "      <td>2000-01-05</td>\n",
       "      <td>1.559704</td>\n",
       "      <td>0.562056</td>\n",
       "      <td>0.371775</td>\n",
       "      <td>0.734310</td>\n",
       "    </tr>\n",
       "    <tr>\n",
       "      <td>2000-01-12</td>\n",
       "      <td>-0.518250</td>\n",
       "      <td>-0.178019</td>\n",
       "      <td>-2.133013</td>\n",
       "      <td>-1.706914</td>\n",
       "    </tr>\n",
       "    <tr>\n",
       "      <td>2000-01-19</td>\n",
       "      <td>-0.336399</td>\n",
       "      <td>-1.134466</td>\n",
       "      <td>0.698209</td>\n",
       "      <td>-1.199652</td>\n",
       "    </tr>\n",
       "    <tr>\n",
       "      <td>2000-01-26</td>\n",
       "      <td>1.594987</td>\n",
       "      <td>1.424979</td>\n",
       "      <td>0.158458</td>\n",
       "      <td>2.087386</td>\n",
       "    </tr>\n",
       "    <tr>\n",
       "      <td>2000-02-02</td>\n",
       "      <td>-0.443885</td>\n",
       "      <td>0.894293</td>\n",
       "      <td>1.046275</td>\n",
       "      <td>1.398380</td>\n",
       "    </tr>\n",
       "    <tr>\n",
       "      <td>...</td>\n",
       "      <td>...</td>\n",
       "      <td>...</td>\n",
       "      <td>...</td>\n",
       "      <td>...</td>\n",
       "    </tr>\n",
       "    <tr>\n",
       "      <td>2001-10-31</td>\n",
       "      <td>0.575012</td>\n",
       "      <td>0.674199</td>\n",
       "      <td>2.344637</td>\n",
       "      <td>-1.544323</td>\n",
       "    </tr>\n",
       "    <tr>\n",
       "      <td>2001-11-07</td>\n",
       "      <td>0.240569</td>\n",
       "      <td>-0.638984</td>\n",
       "      <td>0.216096</td>\n",
       "      <td>-0.245370</td>\n",
       "    </tr>\n",
       "    <tr>\n",
       "      <td>2001-11-14</td>\n",
       "      <td>0.623536</td>\n",
       "      <td>-0.762130</td>\n",
       "      <td>0.269331</td>\n",
       "      <td>-1.230475</td>\n",
       "    </tr>\n",
       "    <tr>\n",
       "      <td>2001-11-21</td>\n",
       "      <td>-0.685114</td>\n",
       "      <td>-0.404271</td>\n",
       "      <td>0.359152</td>\n",
       "      <td>-0.152544</td>\n",
       "    </tr>\n",
       "    <tr>\n",
       "      <td>2001-11-28</td>\n",
       "      <td>-0.267169</td>\n",
       "      <td>-1.469373</td>\n",
       "      <td>1.512320</td>\n",
       "      <td>-0.395678</td>\n",
       "    </tr>\n",
       "  </tbody>\n",
       "</table>\n",
       "<p>100 rows × 4 columns</p>\n",
       "</div>"
      ],
      "text/plain": [
       "            Colorado     Texas  New York      Ohio\n",
       "2000-01-05  1.559704  0.562056  0.371775  0.734310\n",
       "2000-01-12 -0.518250 -0.178019 -2.133013 -1.706914\n",
       "2000-01-19 -0.336399 -1.134466  0.698209 -1.199652\n",
       "2000-01-26  1.594987  1.424979  0.158458  2.087386\n",
       "2000-02-02 -0.443885  0.894293  1.046275  1.398380\n",
       "...              ...       ...       ...       ...\n",
       "2001-10-31  0.575012  0.674199  2.344637 -1.544323\n",
       "2001-11-07  0.240569 -0.638984  0.216096 -0.245370\n",
       "2001-11-14  0.623536 -0.762130  0.269331 -1.230475\n",
       "2001-11-21 -0.685114 -0.404271  0.359152 -0.152544\n",
       "2001-11-28 -0.267169 -1.469373  1.512320 -0.395678\n",
       "\n",
       "[100 rows x 4 columns]"
      ]
     },
     "execution_count": 42,
     "metadata": {},
     "output_type": "execute_result"
    }
   ],
   "source": [
    "long_df[::]"
   ]
  },
  {
   "cell_type": "code",
   "execution_count": 43,
   "metadata": {},
   "outputs": [],
   "source": [
    "dates = pd.DatetimeIndex(['1/1/2000','1/2/2000','1/2/2000',\n",
    "                         '1/2/2000','1/3/2000'])"
   ]
  },
  {
   "cell_type": "code",
   "execution_count": 44,
   "metadata": {},
   "outputs": [],
   "source": [
    "dup_ts=pd.Series(np.arange(5), index=dates)"
   ]
  },
  {
   "cell_type": "code",
   "execution_count": 45,
   "metadata": {},
   "outputs": [
    {
     "data": {
      "text/plain": [
       "2000-01-01    0\n",
       "2000-01-02    1\n",
       "2000-01-02    2\n",
       "2000-01-02    3\n",
       "2000-01-03    4\n",
       "dtype: int32"
      ]
     },
     "execution_count": 45,
     "metadata": {},
     "output_type": "execute_result"
    }
   ],
   "source": [
    "dup_ts"
   ]
  },
  {
   "cell_type": "code",
   "execution_count": 46,
   "metadata": {},
   "outputs": [
    {
     "data": {
      "text/plain": [
       "False"
      ]
     },
     "execution_count": 46,
     "metadata": {},
     "output_type": "execute_result"
    }
   ],
   "source": [
    "dup_ts.index.is_unique"
   ]
  },
  {
   "cell_type": "code",
   "execution_count": 47,
   "metadata": {},
   "outputs": [
    {
     "data": {
      "text/plain": [
       "4"
      ]
     },
     "execution_count": 47,
     "metadata": {},
     "output_type": "execute_result"
    }
   ],
   "source": [
    "dup_ts['1/3/2000']"
   ]
  },
  {
   "cell_type": "code",
   "execution_count": 48,
   "metadata": {},
   "outputs": [
    {
     "data": {
      "text/plain": [
       "2000-01-02    1\n",
       "2000-01-02    2\n",
       "2000-01-02    3\n",
       "dtype: int32"
      ]
     },
     "execution_count": 48,
     "metadata": {},
     "output_type": "execute_result"
    }
   ],
   "source": [
    "dup_ts['1/2/2000']"
   ]
  },
  {
   "cell_type": "code",
   "execution_count": 64,
   "metadata": {},
   "outputs": [],
   "source": [
    "grouped=dup_ts.groupby(level=0)"
   ]
  },
  {
   "cell_type": "code",
   "execution_count": 65,
   "metadata": {},
   "outputs": [
    {
     "data": {
      "text/plain": [
       "2000-01-01     True\n",
       "2000-01-02    False\n",
       "2000-01-03     True\n",
       "dtype: bool"
      ]
     },
     "execution_count": 65,
     "metadata": {},
     "output_type": "execute_result"
    }
   ],
   "source": [
    "grouped.apply(lambda x: x.index.is_unique)"
   ]
  },
  {
   "cell_type": "code",
   "execution_count": 66,
   "metadata": {},
   "outputs": [
    {
     "data": {
      "text/plain": [
       "2000-01-01    0\n",
       "2000-01-02    2\n",
       "2000-01-03    4\n",
       "dtype: int32"
      ]
     },
     "execution_count": 66,
     "metadata": {},
     "output_type": "execute_result"
    }
   ],
   "source": [
    "grouped.mean()"
   ]
  },
  {
   "cell_type": "code",
   "execution_count": 67,
   "metadata": {},
   "outputs": [
    {
     "data": {
      "text/plain": [
       "2000-01-01    1\n",
       "2000-01-02    3\n",
       "2000-01-03    1\n",
       "dtype: int64"
      ]
     },
     "execution_count": 67,
     "metadata": {},
     "output_type": "execute_result"
    }
   ],
   "source": [
    "grouped.count()"
   ]
  }
 ],
 "metadata": {
  "kernelspec": {
   "display_name": "Python 3",
   "language": "python",
   "name": "python3"
  },
  "language_info": {
   "codemirror_mode": {
    "name": "ipython",
    "version": 3
   },
   "file_extension": ".py",
   "mimetype": "text/x-python",
   "name": "python",
   "nbconvert_exporter": "python",
   "pygments_lexer": "ipython3",
   "version": "3.7.4"
  }
 },
 "nbformat": 4,
 "nbformat_minor": 2
}
