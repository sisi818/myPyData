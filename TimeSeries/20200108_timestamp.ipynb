{
 "cells": [
  {
   "cell_type": "code",
   "execution_count": 15,
   "metadata": {},
   "outputs": [],
   "source": [
    "import pytz\n",
    "import pandas as pd\n",
    "import numpy as np\n",
    "from datetime import datetime"
   ]
  },
  {
   "cell_type": "code",
   "execution_count": 2,
   "metadata": {},
   "outputs": [
    {
     "data": {
      "text/plain": [
       "['US/Eastern', 'US/Hawaii', 'US/Mountain', 'US/Pacific', 'UTC']"
      ]
     },
     "execution_count": 2,
     "metadata": {},
     "output_type": "execute_result"
    }
   ],
   "source": [
    "pytz.common_timezones[-5:]"
   ]
  },
  {
   "cell_type": "code",
   "execution_count": 5,
   "metadata": {},
   "outputs": [],
   "source": [
    "tz=pytz.timezone('America/New_York')"
   ]
  },
  {
   "cell_type": "code",
   "execution_count": 6,
   "metadata": {},
   "outputs": [
    {
     "data": {
      "text/plain": [
       "<DstTzInfo 'America/New_York' LMT-1 day, 19:04:00 STD>"
      ]
     },
     "execution_count": 6,
     "metadata": {},
     "output_type": "execute_result"
    }
   ],
   "source": [
    "tz"
   ]
  },
  {
   "cell_type": "code",
   "execution_count": 10,
   "metadata": {},
   "outputs": [
    {
     "data": {
      "text/plain": [
       "<DstTzInfo 'Asia/Shanghai' LMT+8:06:00 STD>"
      ]
     },
     "execution_count": 10,
     "metadata": {},
     "output_type": "execute_result"
    }
   ],
   "source": [
    "#pytz.common_timezones\n",
    "pytz.timezone('Asia/Shanghai')"
   ]
  },
  {
   "cell_type": "code",
   "execution_count": 16,
   "metadata": {},
   "outputs": [],
   "source": [
    "rng=pd.date_range(datetime.now(), periods=6, freq='D')"
   ]
  },
  {
   "cell_type": "code",
   "execution_count": 17,
   "metadata": {},
   "outputs": [],
   "source": [
    "ts=pd.Series(np.random.randn(len(rng)), index=rng)"
   ]
  },
  {
   "cell_type": "code",
   "execution_count": 18,
   "metadata": {},
   "outputs": [
    {
     "data": {
      "text/plain": [
       "2020-01-08 10:56:18.426567   -0.812416\n",
       "2020-01-09 10:56:18.426567    0.025201\n",
       "2020-01-10 10:56:18.426567    0.312390\n",
       "2020-01-11 10:56:18.426567   -1.398017\n",
       "2020-01-12 10:56:18.426567    0.453818\n",
       "2020-01-13 10:56:18.426567    1.980051\n",
       "Freq: D, dtype: float64"
      ]
     },
     "execution_count": 18,
     "metadata": {},
     "output_type": "execute_result"
    }
   ],
   "source": [
    "ts"
   ]
  },
  {
   "cell_type": "code",
   "execution_count": 19,
   "metadata": {},
   "outputs": [
    {
     "name": "stdout",
     "output_type": "stream",
     "text": [
      "None\n"
     ]
    }
   ],
   "source": [
    "print(ts.index.tz)"
   ]
  },
  {
   "cell_type": "code",
   "execution_count": 24,
   "metadata": {},
   "outputs": [
    {
     "data": {
      "text/plain": [
       "DatetimeIndex(['2020-01-08 00:00:00+00:00', '2020-01-09 00:00:00+00:00',\n",
       "               '2020-01-10 00:00:00+00:00', '2020-01-11 00:00:00+00:00',\n",
       "               '2020-01-12 00:00:00+00:00', '2020-01-13 00:00:00+00:00',\n",
       "               '2020-01-14 00:00:00+00:00', '2020-01-15 00:00:00+00:00',\n",
       "               '2020-01-16 00:00:00+00:00', '2020-01-17 00:00:00+00:00'],\n",
       "              dtype='datetime64[ns, UTC]', freq='D')"
      ]
     },
     "execution_count": 24,
     "metadata": {},
     "output_type": "execute_result"
    }
   ],
   "source": [
    "pd.date_range(datetime.now(), normalize=True, periods=10, freq='D', tz='UTC')"
   ]
  },
  {
   "cell_type": "code",
   "execution_count": 33,
   "metadata": {},
   "outputs": [],
   "source": [
    "ts_utc=ts.tz_localize('UTC')"
   ]
  },
  {
   "cell_type": "code",
   "execution_count": 35,
   "metadata": {},
   "outputs": [
    {
     "data": {
      "text/plain": [
       "2020-01-08 11:56:18.426567+09:00   -0.812416\n",
       "2020-01-09 11:56:18.426567+09:00    0.025201\n",
       "2020-01-10 11:56:18.426567+09:00    0.312390\n",
       "2020-01-11 11:56:18.426567+09:00   -1.398017\n",
       "2020-01-12 11:56:18.426567+09:00    0.453818\n",
       "2020-01-13 11:56:18.426567+09:00    1.980051\n",
       "Freq: D, dtype: float64"
      ]
     },
     "execution_count": 35,
     "metadata": {},
     "output_type": "execute_result"
    }
   ],
   "source": [
    "ts_utc.tz_convert('Asia/Tokyo')"
   ]
  },
  {
   "cell_type": "code",
   "execution_count": 36,
   "metadata": {},
   "outputs": [
    {
     "data": {
      "text/plain": [
       "DatetimeIndex(['2020-01-08 10:56:18.426567+08:00',\n",
       "               '2020-01-09 10:56:18.426567+08:00',\n",
       "               '2020-01-10 10:56:18.426567+08:00',\n",
       "               '2020-01-11 10:56:18.426567+08:00',\n",
       "               '2020-01-12 10:56:18.426567+08:00',\n",
       "               '2020-01-13 10:56:18.426567+08:00'],\n",
       "              dtype='datetime64[ns, Asia/Shanghai]', freq='D')"
      ]
     },
     "execution_count": 36,
     "metadata": {},
     "output_type": "execute_result"
    }
   ],
   "source": [
    "ts_utc.index"
   ]
  },
  {
   "cell_type": "code",
   "execution_count": 40,
   "metadata": {},
   "outputs": [
    {
     "data": {
      "text/plain": [
       "2020-01-08 03:56:18.426567+01:00   -0.812416\n",
       "2020-01-09 03:56:18.426567+01:00    0.025201\n",
       "2020-01-10 03:56:18.426567+01:00    0.312390\n",
       "2020-01-11 03:56:18.426567+01:00   -1.398017\n",
       "2020-01-12 03:56:18.426567+01:00    0.453818\n",
       "2020-01-13 03:56:18.426567+01:00    1.980051\n",
       "Freq: D, dtype: float64"
      ]
     },
     "execution_count": 40,
     "metadata": {},
     "output_type": "execute_result"
    }
   ],
   "source": [
    "ts_utc.tz_convert('Europe/Paris')"
   ]
  },
  {
   "cell_type": "code",
   "execution_count": 42,
   "metadata": {},
   "outputs": [],
   "source": [
    "#pytz.common_timezones"
   ]
  },
  {
   "cell_type": "code",
   "execution_count": 43,
   "metadata": {},
   "outputs": [],
   "source": [
    "ts_eastern = ts.tz_localize('America/New_York')"
   ]
  },
  {
   "cell_type": "code",
   "execution_count": 44,
   "metadata": {},
   "outputs": [
    {
     "data": {
      "text/plain": [
       "2020-01-08 15:56:18.426567+00:00   -0.812416\n",
       "2020-01-09 15:56:18.426567+00:00    0.025201\n",
       "2020-01-10 15:56:18.426567+00:00    0.312390\n",
       "2020-01-11 15:56:18.426567+00:00   -1.398017\n",
       "2020-01-12 15:56:18.426567+00:00    0.453818\n",
       "2020-01-13 15:56:18.426567+00:00    1.980051\n",
       "Freq: D, dtype: float64"
      ]
     },
     "execution_count": 44,
     "metadata": {},
     "output_type": "execute_result"
    }
   ],
   "source": [
    "ts_eastern.tz_convert('UTC')"
   ]
  },
  {
   "cell_type": "code",
   "execution_count": 45,
   "metadata": {},
   "outputs": [
    {
     "data": {
      "text/plain": [
       "2020-01-08 16:56:18.426567+01:00   -0.812416\n",
       "2020-01-09 16:56:18.426567+01:00    0.025201\n",
       "2020-01-10 16:56:18.426567+01:00    0.312390\n",
       "2020-01-11 16:56:18.426567+01:00   -1.398017\n",
       "2020-01-12 16:56:18.426567+01:00    0.453818\n",
       "2020-01-13 16:56:18.426567+01:00    1.980051\n",
       "Freq: D, dtype: float64"
      ]
     },
     "execution_count": 45,
     "metadata": {},
     "output_type": "execute_result"
    }
   ],
   "source": [
    "ts_eastern.tz_convert('Europe/Berlin')"
   ]
  },
  {
   "cell_type": "code",
   "execution_count": 46,
   "metadata": {},
   "outputs": [
    {
     "data": {
      "text/plain": [
       "DatetimeIndex(['2020-01-08 10:56:18.426567+08:00',\n",
       "               '2020-01-09 10:56:18.426567+08:00',\n",
       "               '2020-01-10 10:56:18.426567+08:00',\n",
       "               '2020-01-11 10:56:18.426567+08:00',\n",
       "               '2020-01-12 10:56:18.426567+08:00',\n",
       "               '2020-01-13 10:56:18.426567+08:00'],\n",
       "              dtype='datetime64[ns, Asia/Shanghai]', freq='D')"
      ]
     },
     "execution_count": 46,
     "metadata": {},
     "output_type": "execute_result"
    }
   ],
   "source": [
    "ts.index.tz_localize('Asia/Shanghai')"
   ]
  },
  {
   "cell_type": "code",
   "execution_count": 68,
   "metadata": {},
   "outputs": [],
   "source": [
    "rng2=pd.date_range(datetime.now(), periods=10, freq='D')"
   ]
  },
  {
   "cell_type": "code",
   "execution_count": 69,
   "metadata": {},
   "outputs": [
    {
     "data": {
      "text/plain": [
       "DatetimeIndex(['2020-01-08 11:26:23.131040', '2020-01-09 11:26:23.131040',\n",
       "               '2020-01-10 11:26:23.131040', '2020-01-11 11:26:23.131040',\n",
       "               '2020-01-12 11:26:23.131040', '2020-01-13 11:26:23.131040',\n",
       "               '2020-01-14 11:26:23.131040', '2020-01-15 11:26:23.131040',\n",
       "               '2020-01-16 11:26:23.131040', '2020-01-17 11:26:23.131040'],\n",
       "              dtype='datetime64[ns]', freq='D')"
      ]
     },
     "execution_count": 69,
     "metadata": {},
     "output_type": "execute_result"
    }
   ],
   "source": [
    "rng2"
   ]
  },
  {
   "cell_type": "code",
   "execution_count": 72,
   "metadata": {},
   "outputs": [],
   "source": [
    "ts2=pd.Series(np.random.randn(len(rng2)), index=rng2)"
   ]
  },
  {
   "cell_type": "code",
   "execution_count": 73,
   "metadata": {},
   "outputs": [
    {
     "data": {
      "text/plain": [
       "2020-01-08 11:26:23.131040+00:00   -1.094710\n",
       "2020-01-09 11:26:23.131040+00:00    0.545113\n",
       "2020-01-10 11:26:23.131040+00:00   -1.005687\n",
       "2020-01-11 11:26:23.131040+00:00    0.553482\n",
       "2020-01-12 11:26:23.131040+00:00   -0.866366\n",
       "2020-01-13 11:26:23.131040+00:00   -0.342872\n",
       "2020-01-14 11:26:23.131040+00:00    0.069463\n",
       "2020-01-15 11:26:23.131040+00:00    2.272722\n",
       "2020-01-16 11:26:23.131040+00:00    1.136073\n",
       "2020-01-17 11:26:23.131040+00:00   -0.075877\n",
       "Freq: D, dtype: float64"
      ]
     },
     "execution_count": 73,
     "metadata": {},
     "output_type": "execute_result"
    }
   ],
   "source": [
    "ts2.tz_localize('UTC')"
   ]
  },
  {
   "cell_type": "code",
   "execution_count": 74,
   "metadata": {},
   "outputs": [],
   "source": [
    "stamp = pd.Timestamp(datetime.now())"
   ]
  },
  {
   "cell_type": "code",
   "execution_count": 77,
   "metadata": {},
   "outputs": [],
   "source": [
    "stamp_utc = stamp.tz_localize('Asia/Shanghai')"
   ]
  },
  {
   "cell_type": "code",
   "execution_count": 78,
   "metadata": {},
   "outputs": [
    {
     "data": {
      "text/plain": [
       "Timestamp('2020-01-08 06:51:45.594120+0000', tz='UTC')"
      ]
     },
     "execution_count": 78,
     "metadata": {},
     "output_type": "execute_result"
    }
   ],
   "source": [
    "stamp_utc.tz_convert('utc')"
   ]
  },
  {
   "cell_type": "code",
   "execution_count": 79,
   "metadata": {},
   "outputs": [],
   "source": [
    "stamp_moscow=pd.Timestamp(datetime.now(), tz='Europe/Moscow')"
   ]
  },
  {
   "cell_type": "code",
   "execution_count": 80,
   "metadata": {},
   "outputs": [
    {
     "data": {
      "text/plain": [
       "Timestamp('2020-01-08 14:53:57.780399+0300', tz='Europe/Moscow')"
      ]
     },
     "execution_count": 80,
     "metadata": {},
     "output_type": "execute_result"
    }
   ],
   "source": [
    "stamp_moscow"
   ]
  },
  {
   "cell_type": "code",
   "execution_count": 81,
   "metadata": {},
   "outputs": [
    {
     "data": {
      "text/plain": [
       "1578484437780399000"
      ]
     },
     "execution_count": 81,
     "metadata": {},
     "output_type": "execute_result"
    }
   ],
   "source": [
    "stamp_moscow.value"
   ]
  },
  {
   "cell_type": "code",
   "execution_count": 82,
   "metadata": {},
   "outputs": [
    {
     "data": {
      "text/plain": [
       "1578484437780399000"
      ]
     },
     "execution_count": 82,
     "metadata": {},
     "output_type": "execute_result"
    }
   ],
   "source": [
    "stamp_moscow.tz_convert('Asia/Shanghai').value"
   ]
  },
  {
   "cell_type": "code",
   "execution_count": 83,
   "metadata": {},
   "outputs": [],
   "source": [
    "from pandas.tseries.offsets import Hour"
   ]
  },
  {
   "cell_type": "code",
   "execution_count": 84,
   "metadata": {},
   "outputs": [],
   "source": [
    "stamp = pd.Timestamp(datetime.now(), tz='Asia/Shanghai')"
   ]
  },
  {
   "cell_type": "code",
   "execution_count": 85,
   "metadata": {},
   "outputs": [
    {
     "data": {
      "text/plain": [
       "Timestamp('2020-01-08 15:54:18.764942+0800', tz='Asia/Shanghai')"
      ]
     },
     "execution_count": 85,
     "metadata": {},
     "output_type": "execute_result"
    }
   ],
   "source": [
    "stamp"
   ]
  },
  {
   "cell_type": "code",
   "execution_count": 87,
   "metadata": {},
   "outputs": [
    {
     "data": {
      "text/plain": [
       "Timestamp('2020-01-08 16:24:18.764942+0800', tz='Asia/Shanghai')"
      ]
     },
     "execution_count": 87,
     "metadata": {},
     "output_type": "execute_result"
    }
   ],
   "source": [
    "stamp+Hour()/2"
   ]
  },
  {
   "cell_type": "code",
   "execution_count": 89,
   "metadata": {},
   "outputs": [
    {
     "data": {
      "text/plain": [
       "Timestamp('2020-01-08 17:24:18.764942+0800', tz='Asia/Shanghai')"
      ]
     },
     "execution_count": 89,
     "metadata": {},
     "output_type": "execute_result"
    }
   ],
   "source": [
    "stamp+3*Hour()/2"
   ]
  },
  {
   "cell_type": "code",
   "execution_count": 90,
   "metadata": {},
   "outputs": [],
   "source": [
    "rng3=pd.date_range(datetime.now(), periods=10, freq='B')"
   ]
  },
  {
   "cell_type": "code",
   "execution_count": 92,
   "metadata": {},
   "outputs": [],
   "source": [
    "ts3=pd.Series(np.random.randn(len(rng3)), index=rng3)"
   ]
  },
  {
   "cell_type": "code",
   "execution_count": 93,
   "metadata": {},
   "outputs": [
    {
     "data": {
      "text/plain": [
       "2020-01-08 16:00:16.704550   -0.939845\n",
       "2020-01-09 16:00:16.704550   -0.210097\n",
       "2020-01-10 16:00:16.704550    1.413581\n",
       "2020-01-13 16:00:16.704550   -1.119133\n",
       "2020-01-14 16:00:16.704550   -1.974738\n",
       "2020-01-15 16:00:16.704550    0.481316\n",
       "2020-01-16 16:00:16.704550   -0.988256\n",
       "2020-01-17 16:00:16.704550   -0.848009\n",
       "2020-01-20 16:00:16.704550    1.296625\n",
       "2020-01-21 16:00:16.704550    0.897312\n",
       "Freq: B, dtype: float64"
      ]
     },
     "execution_count": 93,
     "metadata": {},
     "output_type": "execute_result"
    }
   ],
   "source": [
    "ts3"
   ]
  },
  {
   "cell_type": "code",
   "execution_count": 94,
   "metadata": {},
   "outputs": [],
   "source": [
    "ts3_1=ts3[:7].tz_localize('Europe/London')"
   ]
  },
  {
   "cell_type": "code",
   "execution_count": 95,
   "metadata": {},
   "outputs": [],
   "source": [
    "ts3_2=ts3_1[2:].tz_convert('Europe/Moscow')"
   ]
  },
  {
   "cell_type": "code",
   "execution_count": 96,
   "metadata": {},
   "outputs": [],
   "source": [
    "result=ts3_1+ts3_2"
   ]
  },
  {
   "cell_type": "code",
   "execution_count": 97,
   "metadata": {},
   "outputs": [
    {
     "data": {
      "text/plain": [
       "DatetimeIndex(['2020-01-08 16:00:16.704550+00:00',\n",
       "               '2020-01-09 16:00:16.704550+00:00',\n",
       "               '2020-01-10 16:00:16.704550+00:00',\n",
       "               '2020-01-13 16:00:16.704550+00:00',\n",
       "               '2020-01-14 16:00:16.704550+00:00',\n",
       "               '2020-01-15 16:00:16.704550+00:00',\n",
       "               '2020-01-16 16:00:16.704550+00:00'],\n",
       "              dtype='datetime64[ns, UTC]', freq='B')"
      ]
     },
     "execution_count": 97,
     "metadata": {},
     "output_type": "execute_result"
    }
   ],
   "source": [
    "result.index"
   ]
  }
 ],
 "metadata": {
  "kernelspec": {
   "display_name": "Python 3",
   "language": "python",
   "name": "python3"
  },
  "language_info": {
   "codemirror_mode": {
    "name": "ipython",
    "version": 3
   },
   "file_extension": ".py",
   "mimetype": "text/x-python",
   "name": "python",
   "nbconvert_exporter": "python",
   "pygments_lexer": "ipython3",
   "version": "3.7.4"
  }
 },
 "nbformat": 4,
 "nbformat_minor": 2
}
