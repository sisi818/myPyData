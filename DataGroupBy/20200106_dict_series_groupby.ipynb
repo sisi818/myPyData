{
 "cells": [
  {
   "cell_type": "code",
   "execution_count": 1,
   "metadata": {},
   "outputs": [],
   "source": [
    "import pandas as pd\n",
    "import numpy as np"
   ]
  },
  {
   "cell_type": "code",
   "execution_count": 2,
   "metadata": {},
   "outputs": [],
   "source": [
    "people=pd.DataFrame(np.random.randn(5,5),\n",
    "                   columns=['a','b','c','d','e'],\n",
    "                   index=['Joe','Steve','Wes','Jim','Travis'])"
   ]
  },
  {
   "cell_type": "code",
   "execution_count": 3,
   "metadata": {},
   "outputs": [
    {
     "data": {
      "text/html": [
       "<div>\n",
       "<style scoped>\n",
       "    .dataframe tbody tr th:only-of-type {\n",
       "        vertical-align: middle;\n",
       "    }\n",
       "\n",
       "    .dataframe tbody tr th {\n",
       "        vertical-align: top;\n",
       "    }\n",
       "\n",
       "    .dataframe thead th {\n",
       "        text-align: right;\n",
       "    }\n",
       "</style>\n",
       "<table border=\"1\" class=\"dataframe\">\n",
       "  <thead>\n",
       "    <tr style=\"text-align: right;\">\n",
       "      <th></th>\n",
       "      <th>a</th>\n",
       "      <th>b</th>\n",
       "      <th>c</th>\n",
       "      <th>d</th>\n",
       "      <th>e</th>\n",
       "    </tr>\n",
       "  </thead>\n",
       "  <tbody>\n",
       "    <tr>\n",
       "      <td>Joe</td>\n",
       "      <td>1.071542</td>\n",
       "      <td>0.313575</td>\n",
       "      <td>0.028699</td>\n",
       "      <td>0.666899</td>\n",
       "      <td>1.395071</td>\n",
       "    </tr>\n",
       "    <tr>\n",
       "      <td>Steve</td>\n",
       "      <td>1.855914</td>\n",
       "      <td>1.020085</td>\n",
       "      <td>-0.586948</td>\n",
       "      <td>0.326611</td>\n",
       "      <td>1.034443</td>\n",
       "    </tr>\n",
       "    <tr>\n",
       "      <td>Wes</td>\n",
       "      <td>-0.027093</td>\n",
       "      <td>0.414082</td>\n",
       "      <td>0.275726</td>\n",
       "      <td>-0.233468</td>\n",
       "      <td>0.382496</td>\n",
       "    </tr>\n",
       "    <tr>\n",
       "      <td>Jim</td>\n",
       "      <td>-0.162298</td>\n",
       "      <td>-0.129690</td>\n",
       "      <td>-1.123291</td>\n",
       "      <td>-1.264154</td>\n",
       "      <td>-0.032624</td>\n",
       "    </tr>\n",
       "    <tr>\n",
       "      <td>Travis</td>\n",
       "      <td>0.953816</td>\n",
       "      <td>-1.025002</td>\n",
       "      <td>0.460119</td>\n",
       "      <td>-0.309329</td>\n",
       "      <td>-0.751464</td>\n",
       "    </tr>\n",
       "  </tbody>\n",
       "</table>\n",
       "</div>"
      ],
      "text/plain": [
       "               a         b         c         d         e\n",
       "Joe     1.071542  0.313575  0.028699  0.666899  1.395071\n",
       "Steve   1.855914  1.020085 -0.586948  0.326611  1.034443\n",
       "Wes    -0.027093  0.414082  0.275726 -0.233468  0.382496\n",
       "Jim    -0.162298 -0.129690 -1.123291 -1.264154 -0.032624\n",
       "Travis  0.953816 -1.025002  0.460119 -0.309329 -0.751464"
      ]
     },
     "execution_count": 3,
     "metadata": {},
     "output_type": "execute_result"
    }
   ],
   "source": [
    "people"
   ]
  },
  {
   "cell_type": "code",
   "execution_count": 14,
   "metadata": {},
   "outputs": [],
   "source": [
    "#2:3为行，【1，2】为列\n",
    "#又测试了people.iloc[2:-1,[1,2]] = np.nan\n",
    "people.iloc[2:3,[1,2]] = np.nan"
   ]
  },
  {
   "cell_type": "code",
   "execution_count": 15,
   "metadata": {},
   "outputs": [
    {
     "data": {
      "text/html": [
       "<div>\n",
       "<style scoped>\n",
       "    .dataframe tbody tr th:only-of-type {\n",
       "        vertical-align: middle;\n",
       "    }\n",
       "\n",
       "    .dataframe tbody tr th {\n",
       "        vertical-align: top;\n",
       "    }\n",
       "\n",
       "    .dataframe thead th {\n",
       "        text-align: right;\n",
       "    }\n",
       "</style>\n",
       "<table border=\"1\" class=\"dataframe\">\n",
       "  <thead>\n",
       "    <tr style=\"text-align: right;\">\n",
       "      <th></th>\n",
       "      <th>a</th>\n",
       "      <th>b</th>\n",
       "      <th>c</th>\n",
       "      <th>d</th>\n",
       "      <th>e</th>\n",
       "    </tr>\n",
       "  </thead>\n",
       "  <tbody>\n",
       "    <tr>\n",
       "      <td>Joe</td>\n",
       "      <td>1.071542</td>\n",
       "      <td>0.313575</td>\n",
       "      <td>0.028699</td>\n",
       "      <td>0.666899</td>\n",
       "      <td>1.395071</td>\n",
       "    </tr>\n",
       "    <tr>\n",
       "      <td>Steve</td>\n",
       "      <td>1.855914</td>\n",
       "      <td>1.020085</td>\n",
       "      <td>-0.586948</td>\n",
       "      <td>0.326611</td>\n",
       "      <td>1.034443</td>\n",
       "    </tr>\n",
       "    <tr>\n",
       "      <td>Wes</td>\n",
       "      <td>-0.027093</td>\n",
       "      <td>NaN</td>\n",
       "      <td>NaN</td>\n",
       "      <td>-0.233468</td>\n",
       "      <td>0.382496</td>\n",
       "    </tr>\n",
       "    <tr>\n",
       "      <td>Jim</td>\n",
       "      <td>-0.162298</td>\n",
       "      <td>NaN</td>\n",
       "      <td>NaN</td>\n",
       "      <td>-1.264154</td>\n",
       "      <td>-0.032624</td>\n",
       "    </tr>\n",
       "    <tr>\n",
       "      <td>Travis</td>\n",
       "      <td>0.953816</td>\n",
       "      <td>-1.025002</td>\n",
       "      <td>0.460119</td>\n",
       "      <td>-0.309329</td>\n",
       "      <td>-0.751464</td>\n",
       "    </tr>\n",
       "  </tbody>\n",
       "</table>\n",
       "</div>"
      ],
      "text/plain": [
       "               a         b         c         d         e\n",
       "Joe     1.071542  0.313575  0.028699  0.666899  1.395071\n",
       "Steve   1.855914  1.020085 -0.586948  0.326611  1.034443\n",
       "Wes    -0.027093       NaN       NaN -0.233468  0.382496\n",
       "Jim    -0.162298       NaN       NaN -1.264154 -0.032624\n",
       "Travis  0.953816 -1.025002  0.460119 -0.309329 -0.751464"
      ]
     },
     "execution_count": 15,
     "metadata": {},
     "output_type": "execute_result"
    }
   ],
   "source": [
    "people"
   ]
  },
  {
   "cell_type": "code",
   "execution_count": 16,
   "metadata": {},
   "outputs": [],
   "source": [
    "mapping={'a':'red', 'b':'red', 'c':'blue',\n",
    "        'd':'blue', 'e':'red', 'f':'orange'}"
   ]
  },
  {
   "cell_type": "code",
   "execution_count": 17,
   "metadata": {},
   "outputs": [],
   "source": [
    "by_column=people.groupby(mapping, axis=1)"
   ]
  },
  {
   "cell_type": "code",
   "execution_count": 18,
   "metadata": {},
   "outputs": [
    {
     "data": {
      "text/html": [
       "<div>\n",
       "<style scoped>\n",
       "    .dataframe tbody tr th:only-of-type {\n",
       "        vertical-align: middle;\n",
       "    }\n",
       "\n",
       "    .dataframe tbody tr th {\n",
       "        vertical-align: top;\n",
       "    }\n",
       "\n",
       "    .dataframe thead th {\n",
       "        text-align: right;\n",
       "    }\n",
       "</style>\n",
       "<table border=\"1\" class=\"dataframe\">\n",
       "  <thead>\n",
       "    <tr style=\"text-align: right;\">\n",
       "      <th></th>\n",
       "      <th>blue</th>\n",
       "      <th>red</th>\n",
       "    </tr>\n",
       "  </thead>\n",
       "  <tbody>\n",
       "    <tr>\n",
       "      <td>Joe</td>\n",
       "      <td>0.695598</td>\n",
       "      <td>2.780189</td>\n",
       "    </tr>\n",
       "    <tr>\n",
       "      <td>Steve</td>\n",
       "      <td>-0.260337</td>\n",
       "      <td>3.910442</td>\n",
       "    </tr>\n",
       "    <tr>\n",
       "      <td>Wes</td>\n",
       "      <td>-0.233468</td>\n",
       "      <td>0.355402</td>\n",
       "    </tr>\n",
       "    <tr>\n",
       "      <td>Jim</td>\n",
       "      <td>-1.264154</td>\n",
       "      <td>-0.194922</td>\n",
       "    </tr>\n",
       "    <tr>\n",
       "      <td>Travis</td>\n",
       "      <td>0.150790</td>\n",
       "      <td>-0.822651</td>\n",
       "    </tr>\n",
       "  </tbody>\n",
       "</table>\n",
       "</div>"
      ],
      "text/plain": [
       "            blue       red\n",
       "Joe     0.695598  2.780189\n",
       "Steve  -0.260337  3.910442\n",
       "Wes    -0.233468  0.355402\n",
       "Jim    -1.264154 -0.194922\n",
       "Travis  0.150790 -0.822651"
      ]
     },
     "execution_count": 18,
     "metadata": {},
     "output_type": "execute_result"
    }
   ],
   "source": [
    "by_column.sum()"
   ]
  },
  {
   "cell_type": "code",
   "execution_count": 22,
   "metadata": {},
   "outputs": [
    {
     "data": {
      "text/html": [
       "<div>\n",
       "<style scoped>\n",
       "    .dataframe tbody tr th:only-of-type {\n",
       "        vertical-align: middle;\n",
       "    }\n",
       "\n",
       "    .dataframe tbody tr th {\n",
       "        vertical-align: top;\n",
       "    }\n",
       "\n",
       "    .dataframe thead th {\n",
       "        text-align: right;\n",
       "    }\n",
       "</style>\n",
       "<table border=\"1\" class=\"dataframe\">\n",
       "  <thead>\n",
       "    <tr style=\"text-align: right;\">\n",
       "      <th></th>\n",
       "      <th>blue</th>\n",
       "      <th>red</th>\n",
       "    </tr>\n",
       "  </thead>\n",
       "  <tbody>\n",
       "    <tr>\n",
       "      <td>Joe</td>\n",
       "      <td>2</td>\n",
       "      <td>3</td>\n",
       "    </tr>\n",
       "    <tr>\n",
       "      <td>Steve</td>\n",
       "      <td>2</td>\n",
       "      <td>3</td>\n",
       "    </tr>\n",
       "    <tr>\n",
       "      <td>Wes</td>\n",
       "      <td>1</td>\n",
       "      <td>2</td>\n",
       "    </tr>\n",
       "    <tr>\n",
       "      <td>Jim</td>\n",
       "      <td>1</td>\n",
       "      <td>2</td>\n",
       "    </tr>\n",
       "    <tr>\n",
       "      <td>Travis</td>\n",
       "      <td>2</td>\n",
       "      <td>3</td>\n",
       "    </tr>\n",
       "  </tbody>\n",
       "</table>\n",
       "</div>"
      ],
      "text/plain": [
       "        blue  red\n",
       "Joe        2    3\n",
       "Steve      2    3\n",
       "Wes        1    2\n",
       "Jim        1    2\n",
       "Travis     2    3"
      ]
     },
     "execution_count": 22,
     "metadata": {},
     "output_type": "execute_result"
    }
   ],
   "source": [
    "by_column.count()"
   ]
  },
  {
   "cell_type": "code",
   "execution_count": 19,
   "metadata": {},
   "outputs": [],
   "source": [
    "map_series=pd.Series(mapping)"
   ]
  },
  {
   "cell_type": "code",
   "execution_count": 20,
   "metadata": {},
   "outputs": [
    {
     "data": {
      "text/plain": [
       "a       red\n",
       "b       red\n",
       "c      blue\n",
       "d      blue\n",
       "e       red\n",
       "f    orange\n",
       "dtype: object"
      ]
     },
     "execution_count": 20,
     "metadata": {},
     "output_type": "execute_result"
    }
   ],
   "source": [
    "map_series"
   ]
  },
  {
   "cell_type": "code",
   "execution_count": 21,
   "metadata": {},
   "outputs": [
    {
     "data": {
      "text/html": [
       "<div>\n",
       "<style scoped>\n",
       "    .dataframe tbody tr th:only-of-type {\n",
       "        vertical-align: middle;\n",
       "    }\n",
       "\n",
       "    .dataframe tbody tr th {\n",
       "        vertical-align: top;\n",
       "    }\n",
       "\n",
       "    .dataframe thead th {\n",
       "        text-align: right;\n",
       "    }\n",
       "</style>\n",
       "<table border=\"1\" class=\"dataframe\">\n",
       "  <thead>\n",
       "    <tr style=\"text-align: right;\">\n",
       "      <th></th>\n",
       "      <th>blue</th>\n",
       "      <th>red</th>\n",
       "    </tr>\n",
       "  </thead>\n",
       "  <tbody>\n",
       "    <tr>\n",
       "      <td>Joe</td>\n",
       "      <td>2</td>\n",
       "      <td>3</td>\n",
       "    </tr>\n",
       "    <tr>\n",
       "      <td>Steve</td>\n",
       "      <td>2</td>\n",
       "      <td>3</td>\n",
       "    </tr>\n",
       "    <tr>\n",
       "      <td>Wes</td>\n",
       "      <td>1</td>\n",
       "      <td>2</td>\n",
       "    </tr>\n",
       "    <tr>\n",
       "      <td>Jim</td>\n",
       "      <td>1</td>\n",
       "      <td>2</td>\n",
       "    </tr>\n",
       "    <tr>\n",
       "      <td>Travis</td>\n",
       "      <td>2</td>\n",
       "      <td>3</td>\n",
       "    </tr>\n",
       "  </tbody>\n",
       "</table>\n",
       "</div>"
      ],
      "text/plain": [
       "        blue  red\n",
       "Joe        2    3\n",
       "Steve      2    3\n",
       "Wes        1    2\n",
       "Jim        1    2\n",
       "Travis     2    3"
      ]
     },
     "execution_count": 21,
     "metadata": {},
     "output_type": "execute_result"
    }
   ],
   "source": [
    "people.groupby(map_series, axis=1).count()"
   ]
  }
 ],
 "metadata": {
  "kernelspec": {
   "display_name": "Python 3",
   "language": "python",
   "name": "python3"
  },
  "language_info": {
   "codemirror_mode": {
    "name": "ipython",
    "version": 3
   },
   "file_extension": ".py",
   "mimetype": "text/x-python",
   "name": "python",
   "nbconvert_exporter": "python",
   "pygments_lexer": "ipython3",
   "version": "3.7.4"
  }
 },
 "nbformat": 4,
 "nbformat_minor": 2
}
