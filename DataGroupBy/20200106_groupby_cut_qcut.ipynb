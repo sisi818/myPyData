{
 "cells": [
  {
   "cell_type": "code",
   "execution_count": 1,
   "metadata": {},
   "outputs": [],
   "source": [
    "import pandas as pd\n",
    "import numpy as np"
   ]
  },
  {
   "cell_type": "code",
   "execution_count": 2,
   "metadata": {},
   "outputs": [],
   "source": [
    "frame=pd.DataFrame({'data1':np.random.randn(1000),\n",
    "                   'data2':np.random.randn(1000)})"
   ]
  },
  {
   "cell_type": "code",
   "execution_count": 3,
   "metadata": {},
   "outputs": [
    {
     "data": {
      "text/html": [
       "<div>\n",
       "<style scoped>\n",
       "    .dataframe tbody tr th:only-of-type {\n",
       "        vertical-align: middle;\n",
       "    }\n",
       "\n",
       "    .dataframe tbody tr th {\n",
       "        vertical-align: top;\n",
       "    }\n",
       "\n",
       "    .dataframe thead th {\n",
       "        text-align: right;\n",
       "    }\n",
       "</style>\n",
       "<table border=\"1\" class=\"dataframe\">\n",
       "  <thead>\n",
       "    <tr style=\"text-align: right;\">\n",
       "      <th></th>\n",
       "      <th>data1</th>\n",
       "      <th>data2</th>\n",
       "    </tr>\n",
       "  </thead>\n",
       "  <tbody>\n",
       "    <tr>\n",
       "      <td>0</td>\n",
       "      <td>-0.517636</td>\n",
       "      <td>-0.269730</td>\n",
       "    </tr>\n",
       "    <tr>\n",
       "      <td>1</td>\n",
       "      <td>-0.619473</td>\n",
       "      <td>-1.295312</td>\n",
       "    </tr>\n",
       "    <tr>\n",
       "      <td>2</td>\n",
       "      <td>-0.143807</td>\n",
       "      <td>-1.015955</td>\n",
       "    </tr>\n",
       "    <tr>\n",
       "      <td>3</td>\n",
       "      <td>0.492250</td>\n",
       "      <td>1.285384</td>\n",
       "    </tr>\n",
       "    <tr>\n",
       "      <td>4</td>\n",
       "      <td>-0.415392</td>\n",
       "      <td>-0.229035</td>\n",
       "    </tr>\n",
       "    <tr>\n",
       "      <td>...</td>\n",
       "      <td>...</td>\n",
       "      <td>...</td>\n",
       "    </tr>\n",
       "    <tr>\n",
       "      <td>995</td>\n",
       "      <td>0.195243</td>\n",
       "      <td>1.123735</td>\n",
       "    </tr>\n",
       "    <tr>\n",
       "      <td>996</td>\n",
       "      <td>-0.041805</td>\n",
       "      <td>-1.832802</td>\n",
       "    </tr>\n",
       "    <tr>\n",
       "      <td>997</td>\n",
       "      <td>0.019459</td>\n",
       "      <td>0.244166</td>\n",
       "    </tr>\n",
       "    <tr>\n",
       "      <td>998</td>\n",
       "      <td>1.865066</td>\n",
       "      <td>1.024138</td>\n",
       "    </tr>\n",
       "    <tr>\n",
       "      <td>999</td>\n",
       "      <td>-0.128186</td>\n",
       "      <td>-1.089988</td>\n",
       "    </tr>\n",
       "  </tbody>\n",
       "</table>\n",
       "<p>1000 rows × 2 columns</p>\n",
       "</div>"
      ],
      "text/plain": [
       "        data1     data2\n",
       "0   -0.517636 -0.269730\n",
       "1   -0.619473 -1.295312\n",
       "2   -0.143807 -1.015955\n",
       "3    0.492250  1.285384\n",
       "4   -0.415392 -0.229035\n",
       "..        ...       ...\n",
       "995  0.195243  1.123735\n",
       "996 -0.041805 -1.832802\n",
       "997  0.019459  0.244166\n",
       "998  1.865066  1.024138\n",
       "999 -0.128186 -1.089988\n",
       "\n",
       "[1000 rows x 2 columns]"
      ]
     },
     "execution_count": 3,
     "metadata": {},
     "output_type": "execute_result"
    }
   ],
   "source": [
    "frame"
   ]
  },
  {
   "cell_type": "code",
   "execution_count": 4,
   "metadata": {},
   "outputs": [],
   "source": [
    "quartiles=pd.cut(frame.data1, 4)"
   ]
  },
  {
   "cell_type": "code",
   "execution_count": 5,
   "metadata": {},
   "outputs": [
    {
     "data": {
      "text/plain": [
       "0    (-1.432, 0.368]\n",
       "1    (-1.432, 0.368]\n",
       "2    (-1.432, 0.368]\n",
       "3     (0.368, 2.168]\n",
       "4    (-1.432, 0.368]\n",
       "5    (-1.432, 0.368]\n",
       "6     (0.368, 2.168]\n",
       "7     (0.368, 2.168]\n",
       "8     (0.368, 2.168]\n",
       "9    (-1.432, 0.368]\n",
       "Name: data1, dtype: category\n",
       "Categories (4, interval[float64]): [(-3.24, -1.432] < (-1.432, 0.368] < (0.368, 2.168] < (2.168, 3.968]]"
      ]
     },
     "execution_count": 5,
     "metadata": {},
     "output_type": "execute_result"
    }
   ],
   "source": [
    "quartiles[:10]"
   ]
  },
  {
   "cell_type": "code",
   "execution_count": 6,
   "metadata": {},
   "outputs": [],
   "source": [
    "def get_stats(group):\n",
    "    return {'min':group.min(),\n",
    "           'max':group.max(),\n",
    "           'count':group.count(),\n",
    "           'mean':group.mean()}"
   ]
  },
  {
   "cell_type": "code",
   "execution_count": 7,
   "metadata": {},
   "outputs": [],
   "source": [
    "grouped=frame.data2.groupby(quartiles)"
   ]
  },
  {
   "cell_type": "code",
   "execution_count": 9,
   "metadata": {},
   "outputs": [
    {
     "data": {
      "text/plain": [
       "data1                 \n",
       "(-3.24, -1.432]  min       -1.972092\n",
       "                 max        1.659724\n",
       "                 count     58.000000\n",
       "                 mean       0.080622\n",
       "(-1.432, 0.368]  min       -2.413447\n",
       "                 max        2.952040\n",
       "                 count    584.000000\n",
       "                 mean       0.058980\n",
       "(0.368, 2.168]   min       -3.330861\n",
       "                 max        2.344333\n",
       "                 count    348.000000\n",
       "                 mean       0.006173\n",
       "(2.168, 3.968]   min       -1.153926\n",
       "                 max        1.273498\n",
       "                 count     10.000000\n",
       "                 mean      -0.114288\n",
       "Name: data2, dtype: float64"
      ]
     },
     "execution_count": 9,
     "metadata": {},
     "output_type": "execute_result"
    }
   ],
   "source": [
    "grouped.apply(get_stats)"
   ]
  },
  {
   "cell_type": "code",
   "execution_count": 14,
   "metadata": {},
   "outputs": [
    {
     "data": {
      "text/html": [
       "<div>\n",
       "<style scoped>\n",
       "    .dataframe tbody tr th:only-of-type {\n",
       "        vertical-align: middle;\n",
       "    }\n",
       "\n",
       "    .dataframe tbody tr th {\n",
       "        vertical-align: top;\n",
       "    }\n",
       "\n",
       "    .dataframe thead th {\n",
       "        text-align: right;\n",
       "    }\n",
       "</style>\n",
       "<table border=\"1\" class=\"dataframe\">\n",
       "  <thead>\n",
       "    <tr style=\"text-align: right;\">\n",
       "      <th></th>\n",
       "      <th>min</th>\n",
       "      <th>max</th>\n",
       "      <th>count</th>\n",
       "      <th>mean</th>\n",
       "    </tr>\n",
       "    <tr>\n",
       "      <th>data1</th>\n",
       "      <th></th>\n",
       "      <th></th>\n",
       "      <th></th>\n",
       "      <th></th>\n",
       "    </tr>\n",
       "  </thead>\n",
       "  <tbody>\n",
       "    <tr>\n",
       "      <td>(-3.24, -1.432]</td>\n",
       "      <td>-1.972092</td>\n",
       "      <td>1.659724</td>\n",
       "      <td>58.0</td>\n",
       "      <td>0.080622</td>\n",
       "    </tr>\n",
       "    <tr>\n",
       "      <td>(-1.432, 0.368]</td>\n",
       "      <td>-2.413447</td>\n",
       "      <td>2.952040</td>\n",
       "      <td>584.0</td>\n",
       "      <td>0.058980</td>\n",
       "    </tr>\n",
       "    <tr>\n",
       "      <td>(0.368, 2.168]</td>\n",
       "      <td>-3.330861</td>\n",
       "      <td>2.344333</td>\n",
       "      <td>348.0</td>\n",
       "      <td>0.006173</td>\n",
       "    </tr>\n",
       "    <tr>\n",
       "      <td>(2.168, 3.968]</td>\n",
       "      <td>-1.153926</td>\n",
       "      <td>1.273498</td>\n",
       "      <td>10.0</td>\n",
       "      <td>-0.114288</td>\n",
       "    </tr>\n",
       "  </tbody>\n",
       "</table>\n",
       "</div>"
      ],
      "text/plain": [
       "                      min       max  count      mean\n",
       "data1                                               \n",
       "(-3.24, -1.432] -1.972092  1.659724   58.0  0.080622\n",
       "(-1.432, 0.368] -2.413447  2.952040  584.0  0.058980\n",
       "(0.368, 2.168]  -3.330861  2.344333  348.0  0.006173\n",
       "(2.168, 3.968]  -1.153926  1.273498   10.0 -0.114288"
      ]
     },
     "execution_count": 14,
     "metadata": {},
     "output_type": "execute_result"
    }
   ],
   "source": [
    "grouped.apply(get_stats).unstack()"
   ]
  },
  {
   "cell_type": "code",
   "execution_count": 17,
   "metadata": {},
   "outputs": [
    {
     "data": {
      "text/html": [
       "<div>\n",
       "<style scoped>\n",
       "    .dataframe tbody tr th:only-of-type {\n",
       "        vertical-align: middle;\n",
       "    }\n",
       "\n",
       "    .dataframe tbody tr th {\n",
       "        vertical-align: top;\n",
       "    }\n",
       "\n",
       "    .dataframe thead th {\n",
       "        text-align: right;\n",
       "    }\n",
       "</style>\n",
       "<table border=\"1\" class=\"dataframe\">\n",
       "  <thead>\n",
       "    <tr style=\"text-align: right;\">\n",
       "      <th>data1</th>\n",
       "      <th>(-3.24, -1.432]</th>\n",
       "      <th>(-1.432, 0.368]</th>\n",
       "      <th>(0.368, 2.168]</th>\n",
       "      <th>(2.168, 3.968]</th>\n",
       "    </tr>\n",
       "  </thead>\n",
       "  <tbody>\n",
       "    <tr>\n",
       "      <td>min</td>\n",
       "      <td>-1.972092</td>\n",
       "      <td>-2.413447</td>\n",
       "      <td>-3.330861</td>\n",
       "      <td>-1.153926</td>\n",
       "    </tr>\n",
       "    <tr>\n",
       "      <td>max</td>\n",
       "      <td>1.659724</td>\n",
       "      <td>2.952040</td>\n",
       "      <td>2.344333</td>\n",
       "      <td>1.273498</td>\n",
       "    </tr>\n",
       "    <tr>\n",
       "      <td>count</td>\n",
       "      <td>58.000000</td>\n",
       "      <td>584.000000</td>\n",
       "      <td>348.000000</td>\n",
       "      <td>10.000000</td>\n",
       "    </tr>\n",
       "    <tr>\n",
       "      <td>mean</td>\n",
       "      <td>0.080622</td>\n",
       "      <td>0.058980</td>\n",
       "      <td>0.006173</td>\n",
       "      <td>-0.114288</td>\n",
       "    </tr>\n",
       "  </tbody>\n",
       "</table>\n",
       "</div>"
      ],
      "text/plain": [
       "data1  (-3.24, -1.432]  (-1.432, 0.368]  (0.368, 2.168]  (2.168, 3.968]\n",
       "min          -1.972092        -2.413447       -3.330861       -1.153926\n",
       "max           1.659724         2.952040        2.344333        1.273498\n",
       "count        58.000000       584.000000      348.000000       10.000000\n",
       "mean          0.080622         0.058980        0.006173       -0.114288"
      ]
     },
     "execution_count": 17,
     "metadata": {},
     "output_type": "execute_result"
    }
   ],
   "source": [
    "grouped.apply(get_stats).unstack('data1')"
   ]
  },
  {
   "cell_type": "code",
   "execution_count": 24,
   "metadata": {},
   "outputs": [],
   "source": [
    "grouping=pd.qcut(frame.data1, 10, labels=False)"
   ]
  },
  {
   "cell_type": "code",
   "execution_count": 25,
   "metadata": {},
   "outputs": [],
   "source": [
    "grouped2=frame.data2.groupby(grouping)"
   ]
  },
  {
   "cell_type": "code",
   "execution_count": 26,
   "metadata": {},
   "outputs": [
    {
     "data": {
      "text/plain": [
       "data1       \n",
       "0      min       -2.406638\n",
       "       max        2.914522\n",
       "       count    100.000000\n",
       "       mean      -0.025572\n",
       "1      min       -2.335382\n",
       "       max        2.421262\n",
       "       count    100.000000\n",
       "       mean      -0.007021\n",
       "2      min       -2.313289\n",
       "       max        2.508680\n",
       "       count    100.000000\n",
       "       mean       0.022489\n",
       "3      min       -2.107002\n",
       "       max        2.384293\n",
       "       count    100.000000\n",
       "       mean       0.147995\n",
       "4      min       -2.413447\n",
       "       max        2.681889\n",
       "       count    100.000000\n",
       "       mean       0.065176\n",
       "5      min       -2.114724\n",
       "       max        2.952040\n",
       "       count    100.000000\n",
       "       mean       0.253246\n",
       "6      min       -3.330861\n",
       "       max        2.113985\n",
       "       count    100.000000\n",
       "       mean      -0.134026\n",
       "7      min       -2.437158\n",
       "       max        2.141315\n",
       "       count    100.000000\n",
       "       mean      -0.029098\n",
       "8      min       -1.959152\n",
       "       max        2.344333\n",
       "       count    100.000000\n",
       "       mean       0.094881\n",
       "9      min       -1.841548\n",
       "       max        2.306075\n",
       "       count    100.000000\n",
       "       mean       0.013189\n",
       "Name: data2, dtype: float64"
      ]
     },
     "execution_count": 26,
     "metadata": {},
     "output_type": "execute_result"
    }
   ],
   "source": [
    "grouped2.apply(get_stats)"
   ]
  },
  {
   "cell_type": "code",
   "execution_count": 27,
   "metadata": {},
   "outputs": [
    {
     "data": {
      "text/html": [
       "<div>\n",
       "<style scoped>\n",
       "    .dataframe tbody tr th:only-of-type {\n",
       "        vertical-align: middle;\n",
       "    }\n",
       "\n",
       "    .dataframe tbody tr th {\n",
       "        vertical-align: top;\n",
       "    }\n",
       "\n",
       "    .dataframe thead th {\n",
       "        text-align: right;\n",
       "    }\n",
       "</style>\n",
       "<table border=\"1\" class=\"dataframe\">\n",
       "  <thead>\n",
       "    <tr style=\"text-align: right;\">\n",
       "      <th></th>\n",
       "      <th>min</th>\n",
       "      <th>max</th>\n",
       "      <th>count</th>\n",
       "      <th>mean</th>\n",
       "    </tr>\n",
       "    <tr>\n",
       "      <th>data1</th>\n",
       "      <th></th>\n",
       "      <th></th>\n",
       "      <th></th>\n",
       "      <th></th>\n",
       "    </tr>\n",
       "  </thead>\n",
       "  <tbody>\n",
       "    <tr>\n",
       "      <td>0</td>\n",
       "      <td>-2.406638</td>\n",
       "      <td>2.914522</td>\n",
       "      <td>100.0</td>\n",
       "      <td>-0.025572</td>\n",
       "    </tr>\n",
       "    <tr>\n",
       "      <td>1</td>\n",
       "      <td>-2.335382</td>\n",
       "      <td>2.421262</td>\n",
       "      <td>100.0</td>\n",
       "      <td>-0.007021</td>\n",
       "    </tr>\n",
       "    <tr>\n",
       "      <td>2</td>\n",
       "      <td>-2.313289</td>\n",
       "      <td>2.508680</td>\n",
       "      <td>100.0</td>\n",
       "      <td>0.022489</td>\n",
       "    </tr>\n",
       "    <tr>\n",
       "      <td>3</td>\n",
       "      <td>-2.107002</td>\n",
       "      <td>2.384293</td>\n",
       "      <td>100.0</td>\n",
       "      <td>0.147995</td>\n",
       "    </tr>\n",
       "    <tr>\n",
       "      <td>4</td>\n",
       "      <td>-2.413447</td>\n",
       "      <td>2.681889</td>\n",
       "      <td>100.0</td>\n",
       "      <td>0.065176</td>\n",
       "    </tr>\n",
       "    <tr>\n",
       "      <td>5</td>\n",
       "      <td>-2.114724</td>\n",
       "      <td>2.952040</td>\n",
       "      <td>100.0</td>\n",
       "      <td>0.253246</td>\n",
       "    </tr>\n",
       "    <tr>\n",
       "      <td>6</td>\n",
       "      <td>-3.330861</td>\n",
       "      <td>2.113985</td>\n",
       "      <td>100.0</td>\n",
       "      <td>-0.134026</td>\n",
       "    </tr>\n",
       "    <tr>\n",
       "      <td>7</td>\n",
       "      <td>-2.437158</td>\n",
       "      <td>2.141315</td>\n",
       "      <td>100.0</td>\n",
       "      <td>-0.029098</td>\n",
       "    </tr>\n",
       "    <tr>\n",
       "      <td>8</td>\n",
       "      <td>-1.959152</td>\n",
       "      <td>2.344333</td>\n",
       "      <td>100.0</td>\n",
       "      <td>0.094881</td>\n",
       "    </tr>\n",
       "    <tr>\n",
       "      <td>9</td>\n",
       "      <td>-1.841548</td>\n",
       "      <td>2.306075</td>\n",
       "      <td>100.0</td>\n",
       "      <td>0.013189</td>\n",
       "    </tr>\n",
       "  </tbody>\n",
       "</table>\n",
       "</div>"
      ],
      "text/plain": [
       "            min       max  count      mean\n",
       "data1                                     \n",
       "0     -2.406638  2.914522  100.0 -0.025572\n",
       "1     -2.335382  2.421262  100.0 -0.007021\n",
       "2     -2.313289  2.508680  100.0  0.022489\n",
       "3     -2.107002  2.384293  100.0  0.147995\n",
       "4     -2.413447  2.681889  100.0  0.065176\n",
       "5     -2.114724  2.952040  100.0  0.253246\n",
       "6     -3.330861  2.113985  100.0 -0.134026\n",
       "7     -2.437158  2.141315  100.0 -0.029098\n",
       "8     -1.959152  2.344333  100.0  0.094881\n",
       "9     -1.841548  2.306075  100.0  0.013189"
      ]
     },
     "execution_count": 27,
     "metadata": {},
     "output_type": "execute_result"
    }
   ],
   "source": [
    "grouped2.apply(get_stats).unstack()"
   ]
  }
 ],
 "metadata": {
  "kernelspec": {
   "display_name": "Python 3",
   "language": "python",
   "name": "python3"
  },
  "language_info": {
   "codemirror_mode": {
    "name": "ipython",
    "version": 3
   },
   "file_extension": ".py",
   "mimetype": "text/x-python",
   "name": "python",
   "nbconvert_exporter": "python",
   "pygments_lexer": "ipython3",
   "version": "3.7.4"
  }
 },
 "nbformat": 4,
 "nbformat_minor": 2
}
