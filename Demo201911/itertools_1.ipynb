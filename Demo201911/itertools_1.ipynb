{
 "cells": [
  {
   "cell_type": "code",
   "execution_count": null,
   "metadata": {},
   "outputs": [],
   "source": [
    "sum(x ** 2 for x in range(1, 10))"
   ]
  },
  {
   "cell_type": "code",
   "execution_count": 1,
   "metadata": {},
   "outputs": [],
   "source": [
    "import itertools"
   ]
  },
  {
   "cell_type": "code",
   "execution_count": 19,
   "metadata": {},
   "outputs": [],
   "source": [
    "first_letter = lambda x:x[0]\n",
    "names = ['Alan', 'Adam', 'Wes', 'Will', 'Albert', 'Steven']"
   ]
  },
  {
   "cell_type": "code",
   "execution_count": 12,
   "metadata": {},
   "outputs": [],
   "source": [
    "for letter, names in itertools.groupby(sorted(names), first_letter):\n",
    "    print(letter, list(names))"
   ]
  },
  {
   "cell_type": "code",
   "execution_count": 28,
   "metadata": {},
   "outputs": [],
   "source": [
    "result = itertools.product(names[0], repeat=3)"
   ]
  },
  {
   "cell_type": "code",
   "execution_count": 29,
   "metadata": {},
   "outputs": [
    {
     "data": {
      "text/plain": [
       "[('A', 'A', 'A'),\n",
       " ('A', 'A', 'l'),\n",
       " ('A', 'A', 'a'),\n",
       " ('A', 'A', 'n'),\n",
       " ('A', 'l', 'A'),\n",
       " ('A', 'l', 'l'),\n",
       " ('A', 'l', 'a'),\n",
       " ('A', 'l', 'n'),\n",
       " ('A', 'a', 'A'),\n",
       " ('A', 'a', 'l'),\n",
       " ('A', 'a', 'a'),\n",
       " ('A', 'a', 'n'),\n",
       " ('A', 'n', 'A'),\n",
       " ('A', 'n', 'l'),\n",
       " ('A', 'n', 'a'),\n",
       " ('A', 'n', 'n'),\n",
       " ('l', 'A', 'A'),\n",
       " ('l', 'A', 'l'),\n",
       " ('l', 'A', 'a'),\n",
       " ('l', 'A', 'n'),\n",
       " ('l', 'l', 'A'),\n",
       " ('l', 'l', 'l'),\n",
       " ('l', 'l', 'a'),\n",
       " ('l', 'l', 'n'),\n",
       " ('l', 'a', 'A'),\n",
       " ('l', 'a', 'l'),\n",
       " ('l', 'a', 'a'),\n",
       " ('l', 'a', 'n'),\n",
       " ('l', 'n', 'A'),\n",
       " ('l', 'n', 'l'),\n",
       " ('l', 'n', 'a'),\n",
       " ('l', 'n', 'n'),\n",
       " ('a', 'A', 'A'),\n",
       " ('a', 'A', 'l'),\n",
       " ('a', 'A', 'a'),\n",
       " ('a', 'A', 'n'),\n",
       " ('a', 'l', 'A'),\n",
       " ('a', 'l', 'l'),\n",
       " ('a', 'l', 'a'),\n",
       " ('a', 'l', 'n'),\n",
       " ('a', 'a', 'A'),\n",
       " ('a', 'a', 'l'),\n",
       " ('a', 'a', 'a'),\n",
       " ('a', 'a', 'n'),\n",
       " ('a', 'n', 'A'),\n",
       " ('a', 'n', 'l'),\n",
       " ('a', 'n', 'a'),\n",
       " ('a', 'n', 'n'),\n",
       " ('n', 'A', 'A'),\n",
       " ('n', 'A', 'l'),\n",
       " ('n', 'A', 'a'),\n",
       " ('n', 'A', 'n'),\n",
       " ('n', 'l', 'A'),\n",
       " ('n', 'l', 'l'),\n",
       " ('n', 'l', 'a'),\n",
       " ('n', 'l', 'n'),\n",
       " ('n', 'a', 'A'),\n",
       " ('n', 'a', 'l'),\n",
       " ('n', 'a', 'a'),\n",
       " ('n', 'a', 'n'),\n",
       " ('n', 'n', 'A'),\n",
       " ('n', 'n', 'l'),\n",
       " ('n', 'n', 'a'),\n",
       " ('n', 'n', 'n')]"
      ]
     },
     "execution_count": 29,
     "metadata": {},
     "output_type": "execute_result"
    }
   ],
   "source": [
    "list(result)"
   ]
  }
 ],
 "metadata": {
  "kernelspec": {
   "display_name": "Python 3",
   "language": "python",
   "name": "python3"
  },
  "language_info": {
   "codemirror_mode": {
    "name": "ipython",
    "version": 3
   },
   "file_extension": ".py",
   "mimetype": "text/x-python",
   "name": "python",
   "nbconvert_exporter": "python",
   "pygments_lexer": "ipython3",
   "version": "3.7.4"
  }
 },
 "nbformat": 4,
 "nbformat_minor": 2
}
