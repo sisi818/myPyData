{
 "cells": [
  {
   "cell_type": "code",
   "execution_count": 4,
   "metadata": {},
   "outputs": [],
   "source": [
    "import numpy as np"
   ]
  },
  {
   "cell_type": "code",
   "execution_count": 5,
   "metadata": {},
   "outputs": [],
   "source": [
    "names = np.array(['Bob','Joe','Will','Bob','Will','Joe','Joe'])"
   ]
  },
  {
   "cell_type": "code",
   "execution_count": 6,
   "metadata": {},
   "outputs": [],
   "source": [
    "data = np.random.randn(7,4)"
   ]
  },
  {
   "cell_type": "code",
   "execution_count": 7,
   "metadata": {},
   "outputs": [
    {
     "data": {
      "text/plain": [
       "array(['Bob', 'Joe', 'Will', 'Bob', 'Will', 'Joe', 'Joe'], dtype='<U4')"
      ]
     },
     "execution_count": 7,
     "metadata": {},
     "output_type": "execute_result"
    }
   ],
   "source": [
    "names"
   ]
  },
  {
   "cell_type": "code",
   "execution_count": 8,
   "metadata": {},
   "outputs": [
    {
     "data": {
      "text/plain": [
       "array([[-0.75090491,  1.47467318,  0.48670676,  0.03538495],\n",
       "       [-1.40150993, -1.20623809,  0.05463139, -0.59501663],\n",
       "       [ 1.43783755,  1.83262368,  1.49073322, -0.95643113],\n",
       "       [-0.06261741, -0.29447969,  0.75518318, -1.27957284],\n",
       "       [-1.07608053,  1.18292227,  0.5484099 ,  1.00470225],\n",
       "       [ 1.33918691, -2.80399554,  1.93581801, -0.90728088],\n",
       "       [-0.2313289 ,  2.06695776, -0.74167255,  1.45489247]])"
      ]
     },
     "execution_count": 8,
     "metadata": {},
     "output_type": "execute_result"
    }
   ],
   "source": [
    "data"
   ]
  },
  {
   "cell_type": "code",
   "execution_count": 9,
   "metadata": {},
   "outputs": [
    {
     "data": {
      "text/plain": [
       "array([ True, False, False,  True, False, False, False])"
      ]
     },
     "execution_count": 9,
     "metadata": {},
     "output_type": "execute_result"
    }
   ],
   "source": [
    "names=='Bob'"
   ]
  },
  {
   "cell_type": "code",
   "execution_count": 10,
   "metadata": {},
   "outputs": [
    {
     "data": {
      "text/plain": [
       "array([[-0.75090491,  1.47467318,  0.48670676,  0.03538495],\n",
       "       [-0.06261741, -0.29447969,  0.75518318, -1.27957284]])"
      ]
     },
     "execution_count": 10,
     "metadata": {},
     "output_type": "execute_result"
    }
   ],
   "source": [
    "data[names=='Bob']"
   ]
  },
  {
   "cell_type": "code",
   "execution_count": 11,
   "metadata": {},
   "outputs": [
    {
     "data": {
      "text/plain": [
       "array([[-1.40150993, -1.20623809,  0.05463139, -0.59501663],\n",
       "       [ 1.43783755,  1.83262368,  1.49073322, -0.95643113],\n",
       "       [-1.07608053,  1.18292227,  0.5484099 ,  1.00470225],\n",
       "       [ 1.33918691, -2.80399554,  1.93581801, -0.90728088],\n",
       "       [-0.2313289 ,  2.06695776, -0.74167255,  1.45489247]])"
      ]
     },
     "execution_count": 11,
     "metadata": {},
     "output_type": "execute_result"
    }
   ],
   "source": [
    "data[names!='Bob']"
   ]
  },
  {
   "cell_type": "code",
   "execution_count": 12,
   "metadata": {},
   "outputs": [
    {
     "data": {
      "text/plain": [
       "array([[-1.40150993, -1.20623809,  0.05463139, -0.59501663],\n",
       "       [ 1.43783755,  1.83262368,  1.49073322, -0.95643113],\n",
       "       [-1.07608053,  1.18292227,  0.5484099 ,  1.00470225],\n",
       "       [ 1.33918691, -2.80399554,  1.93581801, -0.90728088],\n",
       "       [-0.2313289 ,  2.06695776, -0.74167255,  1.45489247]])"
      ]
     },
     "execution_count": 12,
     "metadata": {},
     "output_type": "execute_result"
    }
   ],
   "source": [
    "data[~(names=='Bob')]"
   ]
  },
  {
   "cell_type": "code",
   "execution_count": 13,
   "metadata": {},
   "outputs": [],
   "source": [
    "cond = names=='Bob'"
   ]
  },
  {
   "cell_type": "code",
   "execution_count": 14,
   "metadata": {},
   "outputs": [
    {
     "data": {
      "text/plain": [
       "array([[-1.40150993, -1.20623809,  0.05463139, -0.59501663],\n",
       "       [ 1.43783755,  1.83262368,  1.49073322, -0.95643113],\n",
       "       [-1.07608053,  1.18292227,  0.5484099 ,  1.00470225],\n",
       "       [ 1.33918691, -2.80399554,  1.93581801, -0.90728088],\n",
       "       [-0.2313289 ,  2.06695776, -0.74167255,  1.45489247]])"
      ]
     },
     "execution_count": 14,
     "metadata": {},
     "output_type": "execute_result"
    }
   ],
   "source": [
    "data[~cond]"
   ]
  },
  {
   "cell_type": "code",
   "execution_count": 69,
   "metadata": {},
   "outputs": [],
   "source": [
    "mask1 = (names=='Bob')|(names=='Will')"
   ]
  },
  {
   "cell_type": "code",
   "execution_count": 75,
   "metadata": {},
   "outputs": [
    {
     "data": {
      "text/plain": [
       "array([ True, False,  True,  True,  True, False, False])"
      ]
     },
     "execution_count": 75,
     "metadata": {},
     "output_type": "execute_result"
    }
   ],
   "source": [
    "mask1"
   ]
  },
  {
   "cell_type": "code",
   "execution_count": 80,
   "metadata": {},
   "outputs": [
    {
     "data": {
      "text/plain": [
       "array([[-0.75090491,  1.47467318,  0.48670676,  0.03538495],\n",
       "       [ 1.43783755,  1.83262368,  1.49073322, -0.95643113],\n",
       "       [-0.06261741, -0.29447969,  0.75518318, -1.27957284],\n",
       "       [-1.07608053,  1.18292227,  0.5484099 ,  1.00470225]])"
      ]
     },
     "execution_count": 80,
     "metadata": {},
     "output_type": "execute_result"
    }
   ],
   "source": [
    "data[mask1]"
   ]
  },
  {
   "cell_type": "code",
   "execution_count": null,
   "metadata": {},
   "outputs": [],
   "source": []
  }
 ],
 "metadata": {
  "kernelspec": {
   "display_name": "Python 3",
   "language": "python",
   "name": "python3"
  },
  "language_info": {
   "codemirror_mode": {
    "name": "ipython",
    "version": 3
   },
   "file_extension": ".py",
   "mimetype": "text/x-python",
   "name": "python",
   "nbconvert_exporter": "python",
   "pygments_lexer": "ipython3",
   "version": "3.7.4"
  }
 },
 "nbformat": 4,
 "nbformat_minor": 2
}
